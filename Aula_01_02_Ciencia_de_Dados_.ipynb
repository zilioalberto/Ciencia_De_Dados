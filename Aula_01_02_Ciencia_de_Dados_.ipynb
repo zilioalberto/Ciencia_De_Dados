{
  "nbformat": 4,
  "nbformat_minor": 0,
  "metadata": {
    "colab": {
      "provenance": [],
      "authorship_tag": "ABX9TyMsqDeQFDbqFQwkJEpM3YPa",
      "include_colab_link": true
    },
    "kernelspec": {
      "name": "python3",
      "display_name": "Python 3"
    },
    "language_info": {
      "name": "python"
    }
  },
  "cells": [
    {
      "cell_type": "markdown",
      "metadata": {
        "id": "view-in-github",
        "colab_type": "text"
      },
      "source": [
        "<a href=\"https://colab.research.google.com/github/zilioalberto/Ciencia_De_Dados/blob/main/Aula_01_02_Ciencia_de_Dados_.ipynb\" target=\"_parent\"><img src=\"https://colab.research.google.com/assets/colab-badge.svg\" alt=\"Open In Colab\"/></a>"
      ]
    },
    {
      "cell_type": "code",
      "execution_count": null,
      "metadata": {
        "id": "1qqThBI7m66d"
      },
      "outputs": [],
      "source": [
        "## Alunos: Alberto Zilio\n",
        "## Roni Pereira\n",
        "\n",
        "Ciência de Dados\n",
        "\n",
        "\n",
        "1.\tNome do Dataset: Qual o nome oficial do conjunto de dados?\n",
        "\n",
        "tb_mercadoimob.csv\n",
        "\n",
        "2.\tFonte: De qual plataforma vocês baixaram? (Colem o link direto para a página do dataset).\n",
        "\n",
        "Florianópolis Downtown Real State Analysis - FDRSA\n",
        "\n",
        "https://www.kaggle.com/datasets/rapanos/florianpolis-downtown-real-state-analysis-fdrsa\n",
        "\n",
        "\n",
        "\n",
        "3.\tJustificativa: Por que vocês acreditam que este dataset ajudará a responder à sua pergunta de negócio? (Conecte com a Aula 1).\n",
        "\n",
        "O dataset tb_mercadoimob.csv escolhido contem os dados necessários para  responder à pergunta de negócio: \"Qual é o impacto e o peso relativo dos fatores locacionais (vista para o mar, proximidade à Beira Mar Norte) e características do imóvel (tamanho em m² e número de vagas de garagem) no preço de venda de apartamentos no bairro Centro de Florianópolis, e como a vista para o mar influencia a variação do preço por m², com base em anúncios de 2022?\".\n",
        "\n",
        "Conectando com a Aula 1, onde definimos a pergunta o dataset é relevante porque apresenta variáveis com valor (preço), área (tamanho), num_vagas_garagem (vagas), descrição (para extrair vista para o mar via regex/NLP) e lat/lon (para calcular proximidade à Beira Mar Norte), diretamente alinhados à pergunta.\n",
        "Foca no bairro Centro, Florianópolis, e em 2022, garantindo consistência geográfica e temporal com a pergunta.\n",
        "O dataset, em formato CSV, é acessível e tem tamanho adequado (dezenas a milhares de linhas), permitindo EDA e modelagem sem sobrecarga computacional, ideal para um projeto introdutório de ciência de dados.\n",
        "\n",
        "\n",
        "\n",
        "\n",
        "\n",
        "4.\tDicionário de Dados Preliminar: Crie uma pequena tabela ou lista descrevendo as colunas mais importantes.\n",
        "\n",
        "Coluna\tDescrição\tTipo\n",
        "valor\tPreço de venda do imóvel em reais (R$)\tNumérico\n",
        "área\tTamanho do imóvel em metros quadrados (m²)\tNumérico\n",
        "num_vagas_garagem\tNúmero de vagas de garagem disponíveis\tNumérico\n",
        "descrição\tDescrição textual do anúncio (ex.: menciona vista para o mar)\tTexto\n",
        "lat.\tLatitude da localização do imóvel\tNumérico\n",
        "lon\tLongitude da localização do imóvel\tNumérico\n",
        "tipo_imovel\tTipo de imóvel (ex.: Apartamento, Cobertura)\tCategórico\n",
        "tipo_negocio\tTipo de negócio (Venda ou Aluguel)\tCategórico\n",
        "\n",
        "\n"
      ]
    }
  ]
}