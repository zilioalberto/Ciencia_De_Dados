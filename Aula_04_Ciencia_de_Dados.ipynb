{
  "nbformat": 4,
  "nbformat_minor": 0,
  "metadata": {
    "colab": {
      "provenance": [],
      "authorship_tag": "ABX9TyNX3KuTkSXpsEiy/2+fA3Gp",
      "include_colab_link": true
    },
    "kernelspec": {
      "name": "python3",
      "display_name": "Python 3"
    },
    "language_info": {
      "name": "python"
    }
  },
  "cells": [
    {
      "cell_type": "markdown",
      "metadata": {
        "id": "view-in-github",
        "colab_type": "text"
      },
      "source": [
        "<a href=\"https://colab.research.google.com/github/zilioalberto/Ciencia_De_Dados/blob/main/Aula_04_Ciencia_de_Dados.ipynb\" target=\"_parent\"><img src=\"https://colab.research.google.com/assets/colab-badge.svg\" alt=\"Open In Colab\"/></a>"
      ]
    },
    {
      "cell_type": "code",
      "execution_count": null,
      "metadata": {
        "id": "C5YqsrE7kxG1"
      },
      "outputs": [],
      "source": []
    },
    {
      "cell_type": "markdown",
      "source": [],
      "metadata": {
        "id": "Yk41snnllHKQ"
      }
    },
    {
      "cell_type": "code",
      "source": [
        "## Alunos: Alberto Zilio\n",
        "## Roni Pereira"
      ],
      "metadata": {
        "id": "t-5U69Mok1Dm"
      },
      "execution_count": null,
      "outputs": []
    },
    {
      "cell_type": "code",
      "source": [
        "#Respondendo as 12 perguntas\n",
        "\n",
        "# 1. Olhando para a nossa pergunta de negócio do Encontro 1, qual é a principal história que esperamos que os dados nos contem? O que seria uma descoberta \"surpreendente e o que seria uma descoberta \"esperada\"?\n",
        "# R: Que o preço por m² dos apartamentos no Centro de Florianópolis é explicado principalmente por características do imóvel (especialmente área em m² e vagas de garagem) e por fatores locacionais, com prêmio claro para “vista para o mar” e valorização pela proximidade à Beira Mar Norte. Essa narrativa deriva diretamente da sua pergunta de negócio definida no Encontro 1, usando o dataset tb_mercadoimob.csv (com variáveis de preço, área, vagas, descrições textuais para extrair “vista para o mar” e coordenadas para distância), e do objetivo da Aula 04 de interpretar visualmente padrões ligados à pergunta.\n"
      ],
      "metadata": {
        "id": "Rfgd-JsDlkvo"
      },
      "execution_count": 2,
      "outputs": []
    },
    {
      "cell_type": "code",
      "source": [
        "# #2. Se tivéssemos apenas a tabela de dados e as estatísticas do .describe(), sem nenhum gráfico, que informações importantes sobre nossoproblema poderíamos estar perdendo? (Para responder essa questão pense sobre o Quarteto de Anscombe.\n",
        "# #R: Em uma frase: sem visualização, corremos o risco de concluir que “nada acontece” porque as estatísticas resumidas são parecidas — quando, na verdade, os dados podem contar histórias completamente diferentes (exatamente o ponto do Anscombe/Datasaurus).\n",
        "\n",
        "# Perderiamos:\n",
        "\n",
        "# Formas de distribuição (assimetria, caudas longas, múltiplos picos): médias/DP iguais podem esconder bimodalidade (ex.: imóveis antigos vs. novos) que só aparece em histogramas/boxplots.\n",
        "\n",
        "# Relações não lineares entre variáveis (p.ex., área ↑ e preço ↑ até certo ponto, depois saturação). A correlação de .describe() não mostra curvas; o scatter plot mostra.\n",
        "\n",
        "# Grupos/segmentos ocultos (clusters): mesmo com médias idênticas, padrões podem ser completamente diferentes (lição do Quarteto de Anscombe/Datasaurus: “mesmas estatísticas, gráficos diferentes”).\n",
        "\n",
        "# Outliers e pontos influentes: afetam média/desvio, mas a gravidade deles (e seu impacto prático) fica clara só no boxplot/scatter.\n",
        "\n",
        "# Heterocedasticidade (variância que muda com o valor): .describe() dá um único desvio-padrão; já o scatter revela “funil” (ex.: valores altos com dispersão maior).\n",
        "\n",
        "# Interações/contexto categórico: médias globais escondem diferenças por tipo_imovel, estado_construcao, etc.; boxplots por categoria revelam histórias distintas."
      ],
      "metadata": {
        "id": "69D41eA1vD8k"
      },
      "execution_count": null,
      "outputs": []
    },
    {
      "cell_type": "code",
      "source": [
        "# # 3.Quem seria o público para os nossos gráficos? Um colega técnico, um gerente de produto, um CEO? Como a resposta a essa perguntapoderia mudar o tipo de gráfico que escolhemos ou a forma como o apresentamos?\n",
        "# R:Público-alvo e implicações nos gráficos\n",
        "\n",
        "# 1) Colega técnico (analista/cientista de dados)\n",
        "\n",
        "# Objetivo: validar hipóteses, achar padrões/ruídos.\n",
        "\n",
        "# Gráficos: scatter com linha de tendência/LOESS (preço/m² × área), residual vs. fitted do modelo, box/violino por nº de vagas e “vista mar”, heatmap de correlação, QQ-plot, small multiples por bairro.\n",
        "\n",
        "# Apresentação: eixos e unidades precisos, IC/erro, notas sobre amostra/limpeza (winsorization, n), escalas (log, se preciso) e suposições do modelo.\n",
        "\n",
        "# 2) Gerente de produto/negócio\n",
        "\n",
        "# Objetivo: priorizar ações e segmentos.\n",
        "\n",
        "# Gráficos: barras ordenadas com efeito estimado em % (ex.: prêmio “vista mar”, impacto de 1→2 vagas), boxplots por segmento (novo vs. antigo), waterfall do preço sugerido (composição), ranking de bairros/faixas de área.\n",
        "\n",
        "# Apresentação: títulos em linguagem de negócio (“Vista para o mar adiciona +18–25%/m²”), anotações de “so what”, comparativos com meta/benchmark e 2–3 filtros práticos (área, vagas, vista).\n",
        "\n",
        "# 3) C-level (CEO/diretoria)\n",
        "\n",
        "# Objetivo: decidir rápido e alocar recursos.\n",
        "\n",
        "# Gráficos: 1–3 itens no máximo: cards de KPIs (preço/m² médio; prêmio “vista”), barras simples com prêmios percentuais e, se for relevante, mapa do Centro com hot spots.\n",
        "\n",
        "# Apresentação: mensagem única por gráfico, fontes grandes, zero jargão, call-to-action (“Priorizar captação 60–80 m² com 1–2 vagas e vista: +22%/m²”). Mostrar incerteza como faixa/sombra, sem sobrecarregar.\n"
      ],
      "metadata": {
        "id": "RkKnQsjuul6L"
      },
      "execution_count": 2,
      "outputs": []
    },
    {
      "cell_type": "code",
      "source": [
        "# 4. Vamos escolher uma variável numérica central para a nossa pergunta de negócio (ex: preço, idade, duração). Antes de plotar, qual é anossa hipótese sobre a sua distribuição? Acreditamos que os valores serão concentrados em uma faixa específica, ou bem espalhados?\n",
        "# R: Variável central\n",
        "\n",
        "# Preço por m² (preco_m2) — é a métrica mais alinhada à pergunta de negócio.\n",
        "\n",
        "# Hipótese sobre a distribuição (antes de ver o gráfico)\n",
        "\n",
        "# Forma: assimétrica à direita (tipo log-normal): muitos imóveis concentrados numa faixa central e cauda longa puxando para valores altos (unidades novas/de alto padrão, especialmente com vista para o mar).\n",
        "\n",
        "# Concentração vs. espalhamento: concentrada em uma faixa (IQR relativamente estreito) com alguns outliers; o range será bem maior que o IQR por causa da cauda superior.\n",
        "\n",
        "# Possíveis nuances:\n",
        "\n",
        "# Bimodalidade fraca ao misturar prédios novos vs. antigos (dois “submercados”).\n",
        "\n",
        "# Outliers altos em micro-apartamentos “premium” (m² muito valorizado).\n",
        "\n",
        "# Leve cauda à esquerda (unidades antigas/sem vaga/sem vista).\n",
        "\n",
        "# O que seria “surpreendente”\n",
        "\n",
        "# Uma distribuição quase simétrica/normal (sem cauda à direita), ou uma bimodalidade forte (dois picos claros) — indicando dois mercados totalmente separados.\n"
      ],
      "metadata": {
        "id": "yjC9yoh6wZu7"
      },
      "execution_count": null,
      "outputs": []
    },
    {
      "cell_type": "code",
      "source": [
        "5.Por que é importante entender a distribuição de uma única variável antes de começar a cruzá-la com outras? O que um histograma podenos alertar sobre (ex: presença de múltiplos grupos, dados muito concentrados em um valor, etc.)?\n",
        "R:\n"
      ],
      "metadata": {
        "id": "qD4Yq7Vnwocq"
      },
      "execution_count": null,
      "outputs": []
    },
    {
      "cell_type": "code",
      "source": [
        "6.Imagine que o histograma da coluna preço mostra dois picos claros (uma distribuição \"bimodal\"). O que isso poderia significar sobre osprodutos no nosso dataset? Que nova pergunta isso nos levaria a fazer?\n",
        "R:\n"
      ],
      "metadata": {
        "id": "89Tqy8-TwqE8"
      },
      "execution_count": null,
      "outputs": []
    }
  ]
}